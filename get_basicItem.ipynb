{
 "cells": [
  {
   "cell_type": "code",
   "execution_count": 444,
   "metadata": {},
   "outputs": [],
   "source": [
    "import pandas as pd\n",
    "import numpy as np\n",
    "import pprint"
   ]
  },
  {
   "cell_type": "code",
   "execution_count": 578,
   "metadata": {},
   "outputs": [
    {
     "name": "stdout",
     "output_type": "stream",
     "text": [
      "   0  1  2  3     4\n",
      "0  A  L  P  H     A\n",
      "1  B  E  T  A  None\n",
      "2  D  E  L  T     A\n",
      "3  O  M  E  G     A\n",
      "4  S  I  G  M     A\n",
      "5  T  H  E  T     A\n"
     ]
    }
   ],
   "source": [
    "#https://stackoverflow.com/questions/27020216/import-csv-with-different-number-of-columns-per-row-using-pandas\n",
    "file = 'alpha.csv'\n",
    "df = pd.read_fwf(file, header=None)\n",
    "df = df[0].str.split(',', expand=True)\n",
    "print(df)\n",
    "#https://pandas.pydata.org/pandas-docs/stable/reference/api/pandas.DataFrame.to_numpy.html\n",
    "rawSet = df.to_numpy()"
   ]
  },
  {
   "cell_type": "code",
   "execution_count": 542,
   "metadata": {},
   "outputs": [],
   "source": [
    "# for index, row in df.iterrows():\n",
    "#     print(row.duplicated())\n",
    "#     for col in row:\n",
    "#         if(col is None):\n",
    "#             continue\n",
    "            \n",
    "#         print(col)"
   ]
  },
  {
   "cell_type": "code",
   "execution_count": 594,
   "metadata": {},
   "outputs": [],
   "source": [
    "basicItemSet=[]\n",
    "for nRow,row in enumerate(rawSet):\n",
    "    counter = 1\n",
    "    for nCol,col in enumerate(row):\n",
    "#         print(row)\n",
    "#         print(len(row))\n",
    "#         print(col)\n",
    "        if col == None:\n",
    "            continue\n",
    "        for restN in range(nCol+1,len(row)):\n",
    "#             print(restN)\n",
    "            if(col == row[restN]):\n",
    "                row[restN] = str(col) + str(counter)\n",
    "                print(f'rowID:{nRow} {col}, {row[restN]}{counter}')\n",
    "                counter = counter + 1\n",
    "#         print(f'{col},{nRow},{nCol}')\n",
    "#     print('=== End each row ===')"
   ]
  },
  {
   "cell_type": "code",
   "execution_count": 595,
   "metadata": {},
   "outputs": [
    {
     "name": "stdout",
     "output_type": "stream",
     "text": [
      "[['A' 'L' 'P' 'H' 'A1']\n",
      " ['B' 'E' 'T' 'A' None]\n",
      " ['D' 'E' 'L' 'T' 'A']\n",
      " ['O' 'M' 'E' 'G' 'A']\n",
      " ['S' 'I' 'G' 'M' 'A']\n",
      " ['T' 'H' 'E' 'T1' 'A']]\n"
     ]
    }
   ],
   "source": [
    "print(rawSet)"
   ]
  },
  {
   "cell_type": "code",
   "execution_count": 601,
   "metadata": {},
   "outputs": [
    {
     "name": "stdout",
     "output_type": "stream",
     "text": [
      "['A' 'A1' 'B' 'D' 'E' 'G' 'H' 'I' 'L' 'M' 'O' 'P' 'S' 'T' 'T1']\n"
     ]
    }
   ],
   "source": [
    "rawSetUnique = np.unique(rawSet[rawSet != np.array(None)])\n",
    "print(rawSetUnique)"
   ]
  },
  {
   "cell_type": "code",
   "execution_count": 602,
   "metadata": {},
   "outputs": [
    {
     "name": "stdout",
     "output_type": "stream",
     "text": [
      "A: [[0, 0], [1, 3], [2, 4], [3, 4], [4, 4], [5, 4]]\n",
      "A1: [[0, 4]]\n",
      "B: [[1, 0]]\n",
      "D: [[2, 0]]\n",
      "E: [[1, 1], [2, 1], [3, 2], [5, 2]]\n",
      "G: [[3, 3], [4, 2]]\n",
      "H: [[0, 3], [5, 1]]\n",
      "I: [[4, 1]]\n",
      "L: [[0, 1], [2, 2]]\n",
      "M: [[3, 1], [4, 3]]\n",
      "O: [[3, 0]]\n",
      "P: [[0, 2]]\n",
      "S: [[4, 0]]\n",
      "T: [[1, 2], [2, 3], [5, 0]]\n",
      "T1: [[5, 3]]\n"
     ]
    }
   ],
   "source": [
    "# https://stackoverflow.com/questions/23699432/cannot-append-string-to-dictionary-key#:~:text=You%20can%27t%20.,list%20in%20the%20first%20place.\n",
    "from collections import defaultdict\n",
    "newDict = defaultdict(list)\n",
    "for item in rawSetUnique:\n",
    "    itemIndexes = np.where(rawSet == item)\n",
    "#     print(item)\n",
    "#     print(f'===Item: {item}===')\n",
    "#     print(itemIndexes[0],itemIndexes[1])\n",
    "    counter = 1\n",
    "    for i in range(len(itemIndexes[0])):  \n",
    "        x = itemIndexes[0][i]\n",
    "        y = itemIndexes[1][i]\n",
    "#         print(f'x={x},y={y}')\n",
    "        newDict[item].append([x,y])\n",
    "#     print('===End item===')\n",
    "for item in newDict:\n",
    "    print(f'{item}: {newDict[item]}')"
   ]
  },
  {
   "cell_type": "code",
   "execution_count": 401,
   "metadata": {},
   "outputs": [],
   "source": [
    "#https://stackoverflow.com/questions/7837722/what-is-the-most-efficient-way-to-loop-through-dataframes-with-pandasnewSet = set()\n",
    "# for index, row in df.iterrows():\n",
    "#     for col in row:\n",
    "#         if(col == None):\n",
    "#             continue\n",
    "#         else:\n",
    "#             print(col)\n",
    "#     print('==End Row ==')"
   ]
  },
  {
   "cell_type": "code",
   "execution_count": 600,
   "metadata": {},
   "outputs": [
    {
     "name": "stdout",
     "output_type": "stream",
     "text": [
      "[['A' 'L' 'P' 'H' 'A1']\n",
      " ['B' 'E' 'T' 'A' None]\n",
      " ['D' 'E' 'L' 'T' 'A']\n",
      " ['O' 'M' 'E' 'G' 'A']\n",
      " ['S' 'I' 'G' 'M' 'A']\n",
      " ['T' 'H' 'E' 'T1' 'A']]\n",
      "(6, 5)\n",
      "object\n"
     ]
    }
   ],
   "source": [
    "#https://stackoverflow.com/questions/14162723/replacing-pandas-or-numpy-nan-with-a-none-to-use-with-mysqldb\n",
    "# df1 = df.astype(object).replace(np.nan, 'None')\n",
    "rawSet = rawSet[~np.all(rawSet == None, axis=1)]\n",
    "print(rawSet)\n",
    "print(rawSet.shape)\n",
    "print(rawSet.dtype)"
   ]
  },
  {
   "cell_type": "markdown",
   "metadata": {},
   "source": [
    "https://stackoverflow.com/questions/16096754/remove-none-value-from-a-list-without-removing-the-0-value\n",
    "https://stackoverflow.com/questions/11620914/removing-nan-values-from-an-array\n",
    "https://www.geeksforgeeks.org/python-remove-none-values-from-list/"
   ]
  },
  {
   "cell_type": "code",
   "execution_count": 525,
   "metadata": {},
   "outputs": [
    {
     "name": "stdout",
     "output_type": "stream",
     "text": [
      "['A' 'L' 'P' 'H' 'A']\n",
      "['A' 'H' 'L' 'P']\n",
      "2\n",
      "1\n",
      "1\n",
      "1\n",
      "==End Row==\n",
      "['B' 'E' 'T' 'A' None]\n",
      "['A' 'B' 'E' 'T']\n",
      "1\n",
      "1\n",
      "1\n",
      "1\n",
      "==End Row==\n",
      "['D' 'E' 'L' 'T' 'A']\n",
      "['A' 'D' 'E' 'L' 'T']\n",
      "1\n",
      "1\n",
      "1\n",
      "1\n",
      "1\n",
      "==End Row==\n",
      "['O' 'M' 'E' 'G' 'A']\n",
      "['A' 'E' 'G' 'M' 'O']\n",
      "1\n",
      "1\n",
      "1\n",
      "1\n",
      "1\n",
      "==End Row==\n",
      "['S' 'I' 'G' 'M' 'A']\n",
      "['A' 'G' 'I' 'M' 'S']\n",
      "1\n",
      "1\n",
      "1\n",
      "1\n",
      "1\n",
      "==End Row==\n",
      "['T' 'H' 'E' 'T' 'A']\n",
      "['A' 'E' 'H' 'T']\n",
      "1\n",
      "1\n",
      "1\n",
      "2\n",
      "==End Row==\n",
      "{}\n"
     ]
    }
   ],
   "source": [
    "# #https://stackoverflow.com/questions/25254929/efficient-way-of-removing-nones-from-numpy-array\n",
    "\n",
    "basicItemSet = {}\n",
    "nCol = row.shape[-1]\n",
    "rowID = 0\n",
    "for row in rawSet:\n",
    "    x=rowID\n",
    "    print(row)\n",
    "    uniqueRow = np.unique(row[row != np.array(None)])\n",
    "    print(uniqueRow)\n",
    "    for item in uniqueRow:\n",
    "        itemIndexes = np.where(row == item)[0]\n",
    "        #https://stackoverflow.com/questions/50646102/what-is-the-purpose-of-numpy-where-returning-a-tuple\n",
    "        print(len(itemIndexes))\n",
    "        if(len(itemIndexes)) < 1:\n",
    "            y = itemIndexes[0]\n",
    "            basicItemSet[item].append([x,y])\n",
    "        for i in range(0,len(itemIndexes)):\n",
    "            if(i > 1):\n",
    "                y = itemIndexes[i]\n",
    "                item = item + str(i)\n",
    "                basicItemSet[item].append([x,y])\n",
    "#             print(f'{row[itemIndexes]}')\n",
    "    rowID = rowID + 1\n",
    "    print('==End Row==')\n",
    "print(basicItemSet)"
   ]
  },
  {
   "cell_type": "code",
   "execution_count": 395,
   "metadata": {},
   "outputs": [],
   "source": [
    "# row1 = rawSet[0]\n",
    "# print(row1)\n",
    "# print(row1.dtype)\n",
    "# uniqueRow = np.unique(row1[row1 != np.array(None)])\n",
    "# print(uniqueRow)\n",
    "# for item in uniqueRow:\n",
    "#     print(np.where(row1 == item))"
   ]
  },
  {
   "cell_type": "code",
   "execution_count": 597,
   "metadata": {},
   "outputs": [],
   "source": [
    "rawSetUnique = np.unique(rawSet[rawSet != np.array(None)])"
   ]
  },
  {
   "cell_type": "code",
   "execution_count": 598,
   "metadata": {},
   "outputs": [
    {
     "name": "stdout",
     "output_type": "stream",
     "text": [
      "['A' 'A1' 'B' 'D' 'E' 'G' 'H' 'I' 'L' 'M' 'O' 'P' 'S' 'T' 'T1']\n"
     ]
    }
   ],
   "source": [
    "print(rawSetUnique)"
   ]
  },
  {
   "cell_type": "code",
   "execution_count": 510,
   "metadata": {},
   "outputs": [],
   "source": [
    "def sameRow(current_x, row_id):\n",
    "    return current_x == row_id"
   ]
  },
  {
   "cell_type": "code",
   "execution_count": 534,
   "metadata": {},
   "outputs": [
    {
     "name": "stdout",
     "output_type": "stream",
     "text": [
      "A: [[0, 0], [0, 4], [1, 3], [2, 4], [3, 4], [4, 4], [5, 4]]\n",
      "B: [[1, 0]]\n",
      "D: [[2, 0]]\n",
      "E: [[1, 1], [2, 1], [3, 2], [5, 2]]\n",
      "G: [[3, 3], [4, 2]]\n",
      "H: [[0, 3], [5, 1]]\n",
      "I: [[4, 1]]\n",
      "L: [[0, 1], [2, 2]]\n",
      "M: [[3, 1], [4, 3]]\n",
      "O: [[3, 0]]\n",
      "P: [[0, 2]]\n",
      "S: [[4, 0]]\n",
      "T: [[1, 2], [2, 3], [5, 0], [5, 3]]\n"
     ]
    }
   ],
   "source": [
    "# https://stackoverflow.com/questions/23699432/cannot-append-string-to-dictionary-key#:~:text=You%20can%27t%20.,list%20in%20the%20first%20place.\n",
    "from collections import defaultdict\n",
    "newDict = defaultdict(list)\n",
    "for item in rawSetUnique:\n",
    "    itemIndexes = np.where(rawSet == item)\n",
    "#     print(item)\n",
    "#     print(f'===Item: {item}===')\n",
    "#     print(itemIndexes[0],itemIndexes[1])\n",
    "    counter = 1\n",
    "    for i in range(len(itemIndexes[0])):  \n",
    "        x = itemIndexes[0][i]\n",
    "        y = itemIndexes[1][i]\n",
    "#         print(f'x={x},y={y}')\n",
    "        for coordinate in newDict[item]:\n",
    "            if(x == coordinate[0]):\n",
    "                pass\n",
    "        newDict[item].append([x,y])\n",
    "#     print('===End item===')\n",
    "for item in newDict:\n",
    "    print(f'{item}: {newDict[item]}')"
   ]
  },
  {
   "cell_type": "code",
   "execution_count": 500,
   "metadata": {},
   "outputs": [
    {
     "name": "stdout",
     "output_type": "stream",
     "text": [
      "[0, 0]\n",
      "[0, 4]\n",
      "[1, 3]\n",
      "[2, 4]\n",
      "[3, 4]\n",
      "[4, 4]\n",
      "[5, 4]\n",
      "[1, 0]\n",
      "[2, 0]\n",
      "[1, 1]\n",
      "[2, 1]\n",
      "[3, 2]\n",
      "[5, 2]\n",
      "[3, 3]\n",
      "[4, 2]\n",
      "[0, 3]\n",
      "[5, 1]\n",
      "[4, 1]\n",
      "[0, 1]\n",
      "[2, 2]\n",
      "[3, 1]\n",
      "[4, 3]\n",
      "[3, 0]\n",
      "[0, 2]\n",
      "[4, 0]\n",
      "[1, 2]\n",
      "[2, 3]\n",
      "[5, 0]\n",
      "[5, 3]\n"
     ]
    }
   ],
   "source": [
    "for item in newDict:\n",
    "    for coor in newDict[item]:\n",
    "        print(coor)"
   ]
  }
 ],
 "metadata": {
  "kernelspec": {
   "display_name": "dm",
   "language": "python",
   "name": "dm"
  },
  "language_info": {
   "codemirror_mode": {
    "name": "ipython",
    "version": 3
   },
   "file_extension": ".py",
   "mimetype": "text/x-python",
   "name": "python",
   "nbconvert_exporter": "python",
   "pygments_lexer": "ipython3",
   "version": "3.9.1"
  }
 },
 "nbformat": 4,
 "nbformat_minor": 4
}
